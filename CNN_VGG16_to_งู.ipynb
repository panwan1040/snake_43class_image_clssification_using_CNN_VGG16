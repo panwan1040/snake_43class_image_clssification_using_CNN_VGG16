{
  "nbformat": 4,
  "nbformat_minor": 0,
  "metadata": {
    "colab": {
      "name": "CNN_VGG16  to งู.ipynb",
      "provenance": [],
      "machine_shape": "hm"
    },
    "kernelspec": {
      "name": "python3",
      "display_name": "Python 3"
    },
    "language_info": {
      "name": "python"
    },
    "accelerator": "GPU"
  },
  "cells": [
    {
      "cell_type": "code",
      "execution_count": null,
      "metadata": {
        "id": "ED6VUQ9sI4XA"
      },
      "outputs": [],
      "source": [
        "import keras\n",
        "import numpy as np\n",
        "from keras.preprocessing.image import ImageDataGenerator\n",
        "from keras.applications.vgg16 import preprocess_input\n",
        "import tensorflow as tf"
      ]
    },
    {
      "cell_type": "code",
      "source": [
        ""
      ],
      "metadata": {
        "id": "EAXo8QroJLjK"
      },
      "execution_count": null,
      "outputs": []
    },
    {
      "cell_type": "code",
      "source": [
        "train_datagen = ImageDataGenerator(\n",
        "        preprocessing_function=preprocess_input,\n",
        "        shear_range=0.1,\n",
        "        zoom_range=0.1,\n",
        "        horizontal_flip=True)\n",
        "train_generator = train_datagen.flow_from_directory(\n",
        "        '/content/drive/MyDrive/new งู/งู train set',\n",
        "        target_size=(224, 224),\n",
        "        batch_size=64,\n",
        "        class_mode='categorical')\n",
        "\n",
        "#Creating generator for Validation DataSet\n",
        "val_datagen = ImageDataGenerator(preprocessing_function=preprocess_input)\n",
        "val_generator = val_datagen.flow_from_directory(\n",
        "        '/content/drive/MyDrive/new งู/งู validate set',\n",
        "        target_size=(224, 224),\n",
        "        batch_size=32,\n",
        "        class_mode='categorical')\n",
        "\n",
        "#Creating generator for Test DataSet\n",
        "test_datagen = ImageDataGenerator(preprocessing_function=preprocess_input)\n",
        "test_generator = test_datagen.flow_from_directory(\n",
        "        '/content/drive/MyDrive/new งู/งู test set',\n",
        "        target_size=(224, 224),\n",
        "        batch_size=32,\n",
        "        class_mode='categorical')"
      ],
      "metadata": {
        "colab": {
          "base_uri": "https://localhost:8080/"
        },
        "id": "95Gk6z3EJKiV",
        "outputId": "62ea468c-85cc-4bec-f424-fe74647c14ba"
      },
      "execution_count": null,
      "outputs": [
        {
          "output_type": "stream",
          "name": "stdout",
          "text": [
            "Found 15162 images belonging to 43 classes.\n",
            "Found 2216 images belonging to 43 classes.\n",
            "Found 2306 images belonging to 43 classes.\n"
          ]
        }
      ]
    },
    {
      "cell_type": "code",
      "source": [
        "base_model=keras.applications.vgg16.VGG16(\n",
        "    include_top=False,\n",
        "    weights=\"imagenet\",\n",
        "    input_shape=(224,224,3))"
      ],
      "metadata": {
        "id": "LyeWTyuzJsza",
        "colab": {
          "base_uri": "https://localhost:8080/"
        },
        "outputId": "0cb59f3b-5596-4946-c86d-ee5294ffc8e0"
      },
      "execution_count": null,
      "outputs": [
        {
          "output_type": "stream",
          "name": "stdout",
          "text": [
            "Downloading data from https://storage.googleapis.com/tensorflow/keras-applications/vgg16/vgg16_weights_tf_dim_ordering_tf_kernels_notop.h5\n",
            "58892288/58889256 [==============================] - 1s 0us/step\n",
            "58900480/58889256 [==============================] - 1s 0us/step\n"
          ]
        }
      ]
    },
    {
      "cell_type": "code",
      "source": [
        "base_model.trainable = False"
      ],
      "metadata": {
        "id": "GYXvnpAwKQSP"
      },
      "execution_count": null,
      "outputs": []
    },
    {
      "cell_type": "code",
      "source": [
        "from keras.models import Sequential\n",
        "from keras.layers import Dense,Flatten,Dropout\n",
        "model=Sequential()\n",
        "model.add(base_model)\n",
        "model.add(Flatten())\n",
        "model.add(Dense(2048,activation='relu',kernel_initializer='he_normal'))\n",
        "model.add(Dropout(0.35))\n",
        "model.add(Dense(2048,activation='relu',kernel_initializer='he_normal'))\n",
        "model.add(Dropout(0.35))\n",
        "model.add(Dense(2048,activation='relu',kernel_initializer='he_normal'))\n",
        "model.add(Dropout(0.35))\n",
        "model.add(Dense(43,activation='softmax',kernel_initializer='glorot_normal'))"
      ],
      "metadata": {
        "id": "8iZgjt1GKU9z"
      },
      "execution_count": null,
      "outputs": []
    },
    {
      "cell_type": "code",
      "source": [
        "model.summary()"
      ],
      "metadata": {
        "colab": {
          "base_uri": "https://localhost:8080/"
        },
        "id": "o2zOO8kiKWi-",
        "outputId": "7463144a-6a2e-4ab7-c9e1-0d9ad08fdc5a"
      },
      "execution_count": null,
      "outputs": [
        {
          "output_type": "stream",
          "name": "stdout",
          "text": [
            "Model: \"sequential\"\n",
            "_________________________________________________________________\n",
            " Layer (type)                Output Shape              Param #   \n",
            "=================================================================\n",
            " vgg16 (Functional)          (None, 7, 7, 512)         14714688  \n",
            "                                                                 \n",
            " flatten (Flatten)           (None, 25088)             0         \n",
            "                                                                 \n",
            " dense (Dense)               (None, 2048)              51382272  \n",
            "                                                                 \n",
            " dropout (Dropout)           (None, 2048)              0         \n",
            "                                                                 \n",
            " dense_1 (Dense)             (None, 2048)              4196352   \n",
            "                                                                 \n",
            " dropout_1 (Dropout)         (None, 2048)              0         \n",
            "                                                                 \n",
            " dense_2 (Dense)             (None, 2048)              4196352   \n",
            "                                                                 \n",
            " dropout_2 (Dropout)         (None, 2048)              0         \n",
            "                                                                 \n",
            " dense_3 (Dense)             (None, 43)                88107     \n",
            "                                                                 \n",
            "=================================================================\n",
            "Total params: 74,577,771\n",
            "Trainable params: 59,863,083\n",
            "Non-trainable params: 14,714,688\n",
            "_________________________________________________________________\n"
          ]
        }
      ]
    },
    {
      "cell_type": "code",
      "source": [
        "model.compile(optimizer=tf.keras.optimizers.Adam(0.0001),loss='categorical_crossentropy',metrics=['accuracy'])\n"
      ],
      "metadata": {
        "id": "kRLJc5shKakJ"
      },
      "execution_count": null,
      "outputs": []
    },
    {
      "cell_type": "code",
      "source": [
        "history=model.fit(train_generator,epochs=40,validation_data=val_generator,workers=10,use_multiprocessing=True)"
      ],
      "metadata": {
        "colab": {
          "base_uri": "https://localhost:8080/"
        },
        "id": "YYGpOzsSL87K",
        "outputId": "ff47dc81-33fc-4e42-e9e0-ff6de16989c3"
      },
      "execution_count": null,
      "outputs": [
        {
          "output_type": "stream",
          "name": "stdout",
          "text": [
            "Epoch 1/40\n",
            "237/237 [==============================] - 1062s 4s/step - loss: 10.3883 - accuracy: 0.1171 - val_loss: 3.1537 - val_accuracy: 0.2315\n",
            "Epoch 2/40\n",
            "237/237 [==============================] - 109s 446ms/step - loss: 3.5977 - accuracy: 0.1741 - val_loss: 2.8837 - val_accuracy: 0.2545\n",
            "Epoch 3/40\n",
            "237/237 [==============================] - 110s 444ms/step - loss: 3.1506 - accuracy: 0.2215 - val_loss: 2.7945 - val_accuracy: 0.2694\n",
            "Epoch 4/40\n",
            "237/237 [==============================] - 110s 444ms/step - loss: 2.9055 - accuracy: 0.2619 - val_loss: 2.6876 - val_accuracy: 0.2983\n",
            "Epoch 5/40\n",
            "237/237 [==============================] - 110s 442ms/step - loss: 2.7035 - accuracy: 0.3074 - val_loss: 2.5939 - val_accuracy: 0.3132\n",
            "Epoch 6/40\n",
            "237/237 [==============================] - 110s 444ms/step - loss: 2.5762 - accuracy: 0.3313 - val_loss: 2.5467 - val_accuracy: 0.3285\n",
            "Epoch 7/40\n",
            "237/237 [==============================] - 110s 444ms/step - loss: 2.4369 - accuracy: 0.3609 - val_loss: 2.4970 - val_accuracy: 0.3479\n",
            "Epoch 8/40\n",
            "237/237 [==============================] - 110s 444ms/step - loss: 2.2944 - accuracy: 0.3966 - val_loss: 2.4871 - val_accuracy: 0.3497\n",
            "Epoch 9/40\n",
            "237/237 [==============================] - 110s 445ms/step - loss: 2.1916 - accuracy: 0.4153 - val_loss: 2.4370 - val_accuracy: 0.3551\n",
            "Epoch 10/40\n",
            "237/237 [==============================] - 109s 443ms/step - loss: 2.0819 - accuracy: 0.4380 - val_loss: 2.3922 - val_accuracy: 0.3696\n",
            "Epoch 11/40\n",
            "237/237 [==============================] - 109s 442ms/step - loss: 1.9690 - accuracy: 0.4658 - val_loss: 2.3417 - val_accuracy: 0.3736\n",
            "Epoch 12/40\n",
            "237/237 [==============================] - 110s 442ms/step - loss: 1.8664 - accuracy: 0.4865 - val_loss: 2.3281 - val_accuracy: 0.3890\n",
            "Epoch 13/40\n",
            "237/237 [==============================] - 109s 443ms/step - loss: 1.7946 - accuracy: 0.5105 - val_loss: 2.2990 - val_accuracy: 0.3949\n",
            "Epoch 14/40\n",
            "237/237 [==============================] - 110s 445ms/step - loss: 1.6748 - accuracy: 0.5369 - val_loss: 2.3251 - val_accuracy: 0.3827\n",
            "Epoch 15/40\n",
            "237/237 [==============================] - 110s 445ms/step - loss: 1.5858 - accuracy: 0.5607 - val_loss: 2.3054 - val_accuracy: 0.4034\n",
            "Epoch 16/40\n",
            "237/237 [==============================] - 110s 444ms/step - loss: 1.5145 - accuracy: 0.5784 - val_loss: 2.3213 - val_accuracy: 0.4007\n",
            "Epoch 17/40\n",
            "237/237 [==============================] - 110s 444ms/step - loss: 1.4453 - accuracy: 0.5913 - val_loss: 2.3393 - val_accuracy: 0.4088\n",
            "Epoch 18/40\n",
            "237/237 [==============================] - 110s 443ms/step - loss: 1.3677 - accuracy: 0.6144 - val_loss: 2.3352 - val_accuracy: 0.4088\n",
            "Epoch 19/40\n",
            "237/237 [==============================] - 110s 445ms/step - loss: 1.2945 - accuracy: 0.6333 - val_loss: 2.3798 - val_accuracy: 0.4088\n",
            "Epoch 20/40\n",
            "237/237 [==============================] - 110s 445ms/step - loss: 1.2040 - accuracy: 0.6591 - val_loss: 2.4353 - val_accuracy: 0.4070\n",
            "Epoch 21/40\n",
            "237/237 [==============================] - 110s 443ms/step - loss: 1.1463 - accuracy: 0.6766 - val_loss: 2.4481 - val_accuracy: 0.4079\n",
            "Epoch 22/40\n",
            "237/237 [==============================] - 110s 444ms/step - loss: 1.1282 - accuracy: 0.6774 - val_loss: 2.4248 - val_accuracy: 0.4179\n",
            "Epoch 23/40\n",
            "237/237 [==============================] - 110s 443ms/step - loss: 1.0370 - accuracy: 0.7055 - val_loss: 2.4759 - val_accuracy: 0.4079\n",
            "Epoch 24/40\n",
            "237/237 [==============================] - 110s 445ms/step - loss: 0.9785 - accuracy: 0.7203 - val_loss: 2.5366 - val_accuracy: 0.4147\n",
            "Epoch 25/40\n",
            "237/237 [==============================] - 110s 444ms/step - loss: 0.9331 - accuracy: 0.7358 - val_loss: 2.5791 - val_accuracy: 0.4016\n",
            "Epoch 26/40\n",
            "237/237 [==============================] - 109s 442ms/step - loss: 0.9027 - accuracy: 0.7405 - val_loss: 2.6100 - val_accuracy: 0.4102\n",
            "Epoch 27/40\n",
            "237/237 [==============================] - 110s 444ms/step - loss: 0.8470 - accuracy: 0.7624 - val_loss: 2.6951 - val_accuracy: 0.4102\n",
            "Epoch 28/40\n",
            "237/237 [==============================] - 110s 443ms/step - loss: 0.8207 - accuracy: 0.7669 - val_loss: 2.6972 - val_accuracy: 0.4102\n",
            "Epoch 29/40\n",
            "237/237 [==============================] - 110s 445ms/step - loss: 0.7676 - accuracy: 0.7802 - val_loss: 2.7737 - val_accuracy: 0.4161\n",
            "Epoch 30/40\n",
            "237/237 [==============================] - 110s 443ms/step - loss: 0.7287 - accuracy: 0.7853 - val_loss: 2.7629 - val_accuracy: 0.4197\n",
            "Epoch 31/40\n",
            "237/237 [==============================] - 112s 451ms/step - loss: 0.7117 - accuracy: 0.7955 - val_loss: 2.7589 - val_accuracy: 0.4097\n",
            "Epoch 32/40\n",
            "237/237 [==============================] - 110s 445ms/step - loss: 0.6913 - accuracy: 0.8078 - val_loss: 2.7258 - val_accuracy: 0.4215\n",
            "Epoch 33/40\n",
            "237/237 [==============================] - 110s 442ms/step - loss: 0.6519 - accuracy: 0.8136 - val_loss: 2.8627 - val_accuracy: 0.4156\n",
            "Epoch 34/40\n",
            "237/237 [==============================] - 109s 442ms/step - loss: 0.6235 - accuracy: 0.8250 - val_loss: 2.8895 - val_accuracy: 0.4134\n",
            "Epoch 35/40\n",
            "237/237 [==============================] - 110s 442ms/step - loss: 0.6024 - accuracy: 0.8294 - val_loss: 2.9633 - val_accuracy: 0.4224\n",
            "Epoch 36/40\n",
            "237/237 [==============================] - 109s 442ms/step - loss: 0.5798 - accuracy: 0.8347 - val_loss: 2.8700 - val_accuracy: 0.4224\n",
            "Epoch 37/40\n",
            "237/237 [==============================] - 110s 442ms/step - loss: 0.5663 - accuracy: 0.8414 - val_loss: 3.0523 - val_accuracy: 0.4106\n",
            "Epoch 38/40\n",
            "237/237 [==============================] - 110s 443ms/step - loss: 0.5443 - accuracy: 0.8470 - val_loss: 2.9937 - val_accuracy: 0.4165\n",
            "Epoch 39/40\n",
            "237/237 [==============================] - 110s 444ms/step - loss: 0.5203 - accuracy: 0.8527 - val_loss: 3.0719 - val_accuracy: 0.4197\n",
            "Epoch 40/40\n",
            "237/237 [==============================] - 110s 445ms/step - loss: 0.4937 - accuracy: 0.8605 - val_loss: 3.0463 - val_accuracy: 0.4242\n"
          ]
        }
      ]
    },
    {
      "cell_type": "code",
      "source": [
        "#Some visualizations\n",
        "import matplotlib.pyplot as plt\n",
        "#Loss\n",
        "plt.plot(history.history['loss'],label='loss')\n",
        "plt.plot(history.history['val_loss'],label='val_loss')\n",
        "plt.legend()\n",
        "plt.show()\n",
        "#Accuracy\n",
        "plt.plot(history.history['accuracy'],label='acc')\n",
        "plt.plot(history.history['val_accuracy'],label='val_acc')\n",
        "plt.legend()\n",
        "plt.show()"
      ],
      "metadata": {
        "id": "S2jfIM7tLGY7",
        "colab": {
          "base_uri": "https://localhost:8080/",
          "height": 513
        },
        "outputId": "e67369d6-8f27-40df-eb14-189807f8cd58"
      },
      "execution_count": null,
      "outputs": [
        {
          "output_type": "display_data",
          "data": {
            "text/plain": [
              "<Figure size 432x288 with 1 Axes>"
            ],
            "image/png": "[encoded data removed]"
          },
          "metadata": {
            "needs_background": "light"
          }
        },
        {
          "output_type": "display_data",
          "data": {
            "text/plain": [
              "<Figure size 432x288 with 1 Axes>"
            ],
            "image/png": "[encoded data removed]"
          },
          "metadata": {
            "needs_background": "light"
          }
        }
      ]
    },
    {
      "cell_type": "code",
      "source": [
        "base_model=model.layers[0]"
      ],
      "metadata": {
        "id": "1KrL42ZF9AiJ"
      },
      "execution_count": null,
      "outputs": []
    },
    {
      "cell_type": "code",
      "source": [
        "base_model.trainable = True\n",
        "\n",
        "set_trainable = False\n",
        "for layer in base_model.layers:\n",
        "    if layer.name == 'block4_conv1':\n",
        "        set_trainable = True\n",
        "    if set_trainable:\n",
        "        layer.trainable = True\n",
        "    else:\n",
        "        layer.trainable = False\n",
        "        \n",
        "base_model.summary()\n",
        "model.summary()"
      ],
      "metadata": {
        "colab": {
          "base_uri": "https://localhost:8080/"
        },
        "id": "cDPTkozA9OTS",
        "outputId": "0e0308d2-83de-4e8a-9400-6b4569e150b0"
      },
      "execution_count": null,
      "outputs": [
        {
          "output_type": "stream",
          "name": "stdout",
          "text": [
            "Model: \"vgg16\"\n",
            "_________________________________________________________________\n",
            " Layer (type)                Output Shape              Param #   \n",
            "=================================================================\n",
            " input_1 (InputLayer)        [(None, 224, 224, 3)]     0         \n",
            "                                                                 \n",
            " block1_conv1 (Conv2D)       (None, 224, 224, 64)      1792      \n",
            "                                                                 \n",
            " block1_conv2 (Conv2D)       (None, 224, 224, 64)      36928     \n",
            "                                                                 \n",
            " block1_pool (MaxPooling2D)  (None, 112, 112, 64)      0         \n",
            "                                                                 \n",
            " block2_conv1 (Conv2D)       (None, 112, 112, 128)     73856     \n",
            "                                                                 \n",
            " block2_conv2 (Conv2D)       (None, 112, 112, 128)     147584    \n",
            "                                                                 \n",
            " block2_pool (MaxPooling2D)  (None, 56, 56, 128)       0         \n",
            "                                                                 \n",
            " block3_conv1 (Conv2D)       (None, 56, 56, 256)       295168    \n",
            "                                                                 \n",
            " block3_conv2 (Conv2D)       (None, 56, 56, 256)       590080    \n",
            "                                                                 \n",
            " block3_conv3 (Conv2D)       (None, 56, 56, 256)       590080    \n",
            "                                                                 \n",
            " block3_pool (MaxPooling2D)  (None, 28, 28, 256)       0         \n",
            "                                                                 \n",
            " block4_conv1 (Conv2D)       (None, 28, 28, 512)       1180160   \n",
            "                                                                 \n",
            " block4_conv2 (Conv2D)       (None, 28, 28, 512)       2359808   \n",
            "                                                                 \n",
            " block4_conv3 (Conv2D)       (None, 28, 28, 512)       2359808   \n",
            "                                                                 \n",
            " block4_pool (MaxPooling2D)  (None, 14, 14, 512)       0         \n",
            "                                                                 \n",
            " block5_conv1 (Conv2D)       (None, 14, 14, 512)       2359808   \n",
            "                                                                 \n",
            " block5_conv2 (Conv2D)       (None, 14, 14, 512)       2359808   \n",
            "                                                                 \n",
            " block5_conv3 (Conv2D)       (None, 14, 14, 512)       2359808   \n",
            "                                                                 \n",
            " block5_pool (MaxPooling2D)  (None, 7, 7, 512)         0         \n",
            "                                                                 \n",
            "=================================================================\n",
            "Total params: 14,714,688\n",
            "Trainable params: 12,979,200\n",
            "Non-trainable params: 1,735,488\n",
            "_________________________________________________________________\n",
            "Model: \"sequential\"\n",
            "_________________________________________________________________\n",
            " Layer (type)                Output Shape              Param #   \n",
            "=================================================================\n",
            " vgg16 (Functional)          (None, 7, 7, 512)         14714688  \n",
            "                                                                 \n",
            " flatten (Flatten)           (None, 25088)             0         \n",
            "                                                                 \n",
            " dense (Dense)               (None, 2048)              51382272  \n",
            "                                                                 \n",
            " dropout (Dropout)           (None, 2048)              0         \n",
            "                                                                 \n",
            " dense_1 (Dense)             (None, 2048)              4196352   \n",
            "                                                                 \n",
            " dropout_1 (Dropout)         (None, 2048)              0         \n",
            "                                                                 \n",
            " dense_2 (Dense)             (None, 2048)              4196352   \n",
            "                                                                 \n",
            " dropout_2 (Dropout)         (None, 2048)              0         \n",
            "                                                                 \n",
            " dense_3 (Dense)             (None, 43)                88107     \n",
            "                                                                 \n",
            "=================================================================\n",
            "Total params: 74,577,771\n",
            "Trainable params: 72,842,283\n",
            "Non-trainable params: 1,735,488\n",
            "_________________________________________________________________\n"
          ]
        }
      ]
    },
    {
      "cell_type": "code",
      "source": [
        "model.compile(optimizer=tf.keras.optimizers.Adam(1e-4),loss='categorical_crossentropy',metrics=['accuracy'])"
      ],
      "metadata": {
        "id": "gqvXAfTC9UjY"
      },
      "execution_count": null,
      "outputs": []
    },
    {
      "cell_type": "code",
      "source": [
        "history=model.fit(train_generator,epochs=30,validation_data=val_generator,workers=10,use_multiprocessing=True)"
      ],
      "metadata": {
        "colab": {
          "base_uri": "https://localhost:8080/"
        },
        "id": "4-N3Hv7x9d1J",
        "outputId": "74ff23e0-92c6-4f04-bd4b-ab10176693a8"
      },
      "execution_count": null,
      "outputs": [
        {
          "output_type": "stream",
          "name": "stdout",
          "text": [
            "Epoch 1/30\n",
            "237/237 [==============================] - 113s 453ms/step - loss: 1.4060 - accuracy: 0.6225 - val_loss: 2.4794 - val_accuracy: 0.3673\n",
            "Epoch 2/30\n",
            "237/237 [==============================] - 111s 449ms/step - loss: 1.1906 - accuracy: 0.6775 - val_loss: 2.4729 - val_accuracy: 0.3912\n",
            "Epoch 3/30\n",
            "237/237 [==============================] - 112s 453ms/step - loss: 0.9950 - accuracy: 0.7234 - val_loss: 2.6247 - val_accuracy: 0.3958\n",
            "Epoch 4/30\n",
            "237/237 [==============================] - 111s 450ms/step - loss: 0.9367 - accuracy: 0.7418 - val_loss: 2.4859 - val_accuracy: 0.4039\n",
            "Epoch 5/30\n",
            "237/237 [==============================] - 111s 451ms/step - loss: 0.8456 - accuracy: 0.7583 - val_loss: 2.6891 - val_accuracy: 0.4237\n",
            "Epoch 6/30\n",
            "237/237 [==============================] - 111s 451ms/step - loss: 0.7636 - accuracy: 0.7789 - val_loss: 2.4493 - val_accuracy: 0.4346\n",
            "Epoch 7/30\n",
            "237/237 [==============================] - 111s 448ms/step - loss: 0.7312 - accuracy: 0.7911 - val_loss: 2.4711 - val_accuracy: 0.4192\n",
            "Epoch 8/30\n",
            "237/237 [==============================] - 120s 489ms/step - loss: 0.7027 - accuracy: 0.8027 - val_loss: 2.6886 - val_accuracy: 0.4201\n",
            "Epoch 9/30\n",
            "237/237 [==============================] - 111s 449ms/step - loss: 0.6409 - accuracy: 0.8188 - val_loss: 2.5562 - val_accuracy: 0.4413\n",
            "Epoch 10/30\n",
            "237/237 [==============================] - 111s 449ms/step - loss: 0.5689 - accuracy: 0.8366 - val_loss: 2.5832 - val_accuracy: 0.4129\n",
            "Epoch 11/30\n",
            "237/237 [==============================] - 111s 448ms/step - loss: 0.5676 - accuracy: 0.8358 - val_loss: 2.5562 - val_accuracy: 0.4468\n",
            "Epoch 12/30\n",
            "237/237 [==============================] - 111s 448ms/step - loss: 0.5568 - accuracy: 0.8428 - val_loss: 2.5696 - val_accuracy: 0.4319\n",
            "Epoch 13/30\n",
            "237/237 [==============================] - 111s 448ms/step - loss: 0.5055 - accuracy: 0.8579 - val_loss: 2.5450 - val_accuracy: 0.4314\n",
            "Epoch 14/30\n",
            "237/237 [==============================] - 111s 450ms/step - loss: 0.5242 - accuracy: 0.8509 - val_loss: 2.7846 - val_accuracy: 0.4233\n",
            "Epoch 15/30\n",
            "237/237 [==============================] - 111s 449ms/step - loss: 0.4527 - accuracy: 0.8719 - val_loss: 2.7426 - val_accuracy: 0.4332\n",
            "Epoch 16/30\n",
            "237/237 [==============================] - 111s 448ms/step - loss: 0.4486 - accuracy: 0.8748 - val_loss: 2.6577 - val_accuracy: 0.4165\n",
            "Epoch 17/30\n",
            "237/237 [==============================] - 111s 450ms/step - loss: 0.4157 - accuracy: 0.8796 - val_loss: 2.6888 - val_accuracy: 0.4332\n",
            "Epoch 18/30\n",
            "237/237 [==============================] - 111s 450ms/step - loss: 0.3797 - accuracy: 0.8919 - val_loss: 2.8237 - val_accuracy: 0.4264\n",
            "237/237 [==============================] - ETA: 0s - loss: 0.3797 - accuracy: 0.8919Epoch 19/30\n",
            "237/237 [==============================] - 111s 450ms/step - loss: 0.3899 - accuracy: 0.8918 - val_loss: 2.8748 - val_accuracy: 0.4174\n",
            "Epoch 20/30\n",
            "237/237 [==============================] - 111s 449ms/step - loss: 0.3763 - accuracy: 0.8957 - val_loss: 2.6571 - val_accuracy: 0.4377\n",
            "Epoch 21/30\n",
            "237/237 [==============================] - 111s 449ms/step - loss: 0.3424 - accuracy: 0.8994 - val_loss: 2.6627 - val_accuracy: 0.4346\n",
            "Epoch 22/30\n",
            "237/237 [==============================] - 111s 449ms/step - loss: 0.3592 - accuracy: 0.9005 - val_loss: 2.9430 - val_accuracy: 0.4269\n",
            "Epoch 23/30\n",
            "237/237 [==============================] - 111s 450ms/step - loss: 0.3279 - accuracy: 0.9085 - val_loss: 2.7200 - val_accuracy: 0.4224\n",
            "Epoch 24/30\n",
            "237/237 [==============================] - 111s 449ms/step - loss: 0.3261 - accuracy: 0.9064 - val_loss: 2.9848 - val_accuracy: 0.4386\n",
            "Epoch 25/30\n",
            "237/237 [==============================] - 111s 449ms/step - loss: 0.3270 - accuracy: 0.9078 - val_loss: 2.8909 - val_accuracy: 0.4337\n",
            "Epoch 26/30\n",
            "237/237 [==============================] - 111s 448ms/step - loss: 0.2941 - accuracy: 0.9158 - val_loss: 2.9882 - val_accuracy: 0.4359\n",
            "Epoch 27/30\n",
            "237/237 [==============================] - 111s 450ms/step - loss: 0.2941 - accuracy: 0.9199 - val_loss: 3.3444 - val_accuracy: 0.4341\n",
            "Epoch 28/30\n",
            "237/237 [==============================] - 111s 449ms/step - loss: 0.3005 - accuracy: 0.9150 - val_loss: 2.9044 - val_accuracy: 0.4404\n",
            "Epoch 29/30\n",
            "237/237 [==============================] - 111s 450ms/step - loss: 0.2849 - accuracy: 0.9231 - val_loss: 2.9995 - val_accuracy: 0.4242\n",
            "Epoch 30/30\n",
            "237/237 [==============================] - 111s 449ms/step - loss: 0.2763 - accuracy: 0.9228 - val_loss: 3.1553 - val_accuracy: 0.4359\n"
          ]
        }
      ]
    },
    {
      "cell_type": "code",
      "source": [
        "model.save(\"model_fine_tuned\")\n",
        "model.save(\"/content/drive/MyDrive/model_fine_tuned\")\n",
        "print(\"ok\")"
      ],
      "metadata": {
        "colab": {
          "base_uri": "https://localhost:8080/"
        },
        "id": "bZoTbalL9loW",
        "outputId": "af89d68a-6c1f-4316-b26e-ba5a068ebe78"
      },
      "execution_count": null,
      "outputs": [
        {
          "output_type": "stream",
          "name": "stdout",
          "text": [
            "INFO:tensorflow:Assets written to: model_fine_tuned/assets\n",
            "INFO:tensorflow:Assets written to: /content/drive/MyDrive/model_fine_tuned/assets\n",
            "ok\n"
          ]
        }
      ]
    },
    {
      "cell_type": "code",
      "source": [
        "model.save(\"/content/drive/MyDrive/save model/all_snake_47.h5\")"
      ],
      "metadata": {
        "id": "WXZ6hGMtPm4T"
      },
      "execution_count": null,
      "outputs": []
    },
    {
      "cell_type": "code",
      "source": [
        "\n",
        "test_datagen = ImageDataGenerator(\n",
        "        preprocessing_function=preprocess_input,\n",
        "        shear_range=0.1,\n",
        "        zoom_range=0.1,\n",
        "        horizontal_flip=True)\n",
        "test_generator = test_datagen.flow_from_directory(\n",
        "        '/content/drive/MyDrive/new งู/test 2',\n",
        "        target_size=(224, 224),\n",
        "        batch_size=64,\n",
        "        class_mode='categorical')"
      ],
      "metadata": {
        "colab": {
          "base_uri": "https://localhost:8080/"
        },
        "id": "rxjCxDMPvU8o",
        "outputId": "70066367-b427-4f2c-9de4-82a5a5d610a1"
      },
      "execution_count": null,
      "outputs": [
        {
          "output_type": "stream",
          "name": "stdout",
          "text": [
            "Found 2197 images belonging to 43 classes.\n"
          ]
        }
      ]
    },
    {
      "cell_type": "code",
      "source": [
        "# model.evaluate(test_generator,use_multiprocessing=True,workers=10)\n",
        "loss, accuracy = model.evaluate(test_generator)"
      ],
      "metadata": {
        "colab": {
          "base_uri": "https://localhost:8080/"
        },
        "id": "r6VGm5Azcggh",
        "outputId": "cea9c24e-94b4-450b-e401-4a151f23c579"
      },
      "execution_count": null,
      "outputs": [
        {
          "output_type": "stream",
          "name": "stdout",
          "text": [
            "35/35 [==============================] - 31s 880ms/step - loss: 2.7116 - accuracy: 0.4725\n"
          ]
        }
      ]
    },
    {
      "cell_type": "code",
      "source": [
        "test_generator.image_shape"
      ],
      "metadata": {
        "colab": {
          "base_uri": "https://localhost:8080/"
        },
        "id": "rNcLU3prW-im",
        "outputId": "d942a41f-21bd-46fd-bea1-0681ae85b54b"
      },
      "execution_count": null,
      "outputs": [
        {
          "output_type": "execute_result",
          "data": {
            "text/plain": [
              "(224, 224, 3)"
            ]
          },
          "metadata": {},
          "execution_count": 62
        }
      ]
    },
    {
      "cell_type": "code",
      "source": [
        "# score = model.evaluate(x_test, y_test, verbose = 0) \n",
        "\n",
        "print('Test loss:', loss) \n",
        "print('Test accuracy:',accuracy)"
      ],
      "metadata": {
        "colab": {
          "base_uri": "https://localhost:8080/"
        },
        "id": "CJEQxJxWW4-L",
        "outputId": "d236eeee-c08c-4eee-e8c1-7da0e64d0f5a"
      },
      "execution_count": null,
      "outputs": [
        {
          "output_type": "stream",
          "name": "stdout",
          "text": [
            "Test loss: 2.725768566131592\n",
            "Test accuracy: 0.4779244363307953\n"
          ]
        }
      ]
    },
    {
      "cell_type": "code",
      "source": [
        "plt.plot(history.history['accuracy'],label='acc')\n",
        "plt.plot(history.history['val_accuracy'],label='val_acc')\n",
        "plt.legend()\n",
        "plt.show()"
      ],
      "metadata": {
        "colab": {
          "base_uri": "https://localhost:8080/",
          "height": 265
        },
        "id": "TRT4mZ0kVFOe",
        "outputId": "856310bf-08d6-462d-83f3-9c15d1ef655f"
      },
      "execution_count": null,
      "outputs": [
        {
          "output_type": "display_data",
          "data": {
            "text/plain": [
              "<Figure size 432x288 with 1 Axes>"
            ],
            "image/png": "[encoded data removed]"
          },
          "metadata": {
            "needs_background": "light"
          }
        }
      ]
    },
    {
      "cell_type": "code",
      "source": [
        "test_generator.class_indices "
      ],
      "metadata": {
        "colab": {
          "base_uri": "https://localhost:8080/"
        },
        "id": "V4BH7jBpSI8W",
        "outputId": "9fbf08a5-81c1-4973-be86-590b8600a9b2"
      },
      "execution_count": null,
      "outputs": [
        {
          "output_type": "execute_result",
          "data": {
            "text/plain": [
              "{'งูกะปะ': 0,\n",
              " 'งูกินทากหัวโหนก': 1,\n",
              " 'งูก้นขบหางแดง': 2,\n",
              " 'งูคออ่อนปากจงอย': 3,\n",
              " 'งูงวงช้าง': 4,\n",
              " 'งูชายธงหลังดำ': 5,\n",
              " 'งูดินบ้าน': 6,\n",
              " 'งูทับสมิงคลา': 7,\n",
              " 'งูทางมะพร้าว': 8,\n",
              " 'งูปลิง': 9,\n",
              " 'งูปล้องฉนวน': 10,\n",
              " 'งูปล้องทอง': 11,\n",
              " 'งูปล้องหวายลายขวั้นดำ': 12,\n",
              " 'งูปากกว้างน้ำเค็ม': 13,\n",
              " 'งูปี่แก้ว': 14,\n",
              " 'งูพริกท้องแดง': 15,\n",
              " 'งูพริกสีน้ำตาล': 16,\n",
              " 'งูพังกา': 17,\n",
              " 'งูม่านทอง': 18,\n",
              " 'งูลายสอ': 19,\n",
              " 'งูลายสาบ': 20,\n",
              " 'งูลายสาบตาโต': 21,\n",
              " 'งูสมิงทะเล': 22,\n",
              " 'งูสามเหลี่ยม': 23,\n",
              " 'งูสายม่าน': 24,\n",
              " 'งูสิงตาโต': 25,\n",
              " 'งูหมอก': 26,\n",
              " 'งูหลาม': 27,\n",
              " 'งูเขียว': 28,\n",
              " 'งูเขียวกาบหมาก': 29,\n",
              " 'งูเขียวปากจิ้งจก': 30,\n",
              " 'งูเขียวพระอินทร์': 31,\n",
              " 'งูเขียวหางเทา': 32,\n",
              " 'งูเขียวหางไหม้ตาโต': 33,\n",
              " 'งูเขียวหางไหม้ท้องเขียวใต้': 34,\n",
              " 'งูเขียวหางไหม้ท้องเหลือง': 35,\n",
              " 'งูเหลือม': 36,\n",
              " 'งูเห่า': 37,\n",
              " 'งูแมวเซา': 38,\n",
              " 'งูแม่ตะงาวรังนก': 39,\n",
              " 'งูแสงอาทิตย์': 40,\n",
              " 'งูแส้หางม้า': 41,\n",
              " 'จงอาง': 42}"
            ]
          },
          "metadata": {},
          "execution_count": 66
        }
      ]
    },
    {
      "cell_type": "code",
      "source": [
        "test_generator.labels"
      ],
      "metadata": {
        "colab": {
          "base_uri": "https://localhost:8080/"
        },
        "id": "iw6kG6wTP68Q",
        "outputId": "9d5233f0-0409-40f8-81a5-4e2f0f955026"
      },
      "execution_count": null,
      "outputs": [
        {
          "output_type": "execute_result",
          "data": {
            "text/plain": [
              "array([ 0,  0,  0, ..., 42, 42, 42], dtype=int32)"
            ]
          },
          "metadata": {},
          "execution_count": 74
        }
      ]
    }
  ]
}